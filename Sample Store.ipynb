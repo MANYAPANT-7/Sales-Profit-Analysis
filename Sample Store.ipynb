{
 "cells": [
  {
   "cell_type": "code",
   "execution_count": 1,
   "id": "f79cc88b-f5dc-4437-8de7-b9cee78be5bd",
   "metadata": {},
   "outputs": [
    {
     "name": "stdout",
     "output_type": "stream",
     "text": [
      "<class 'pandas.core.frame.DataFrame'>\n",
      "RangeIndex: 9994 entries, 0 to 9993\n",
      "Data columns (total 13 columns):\n",
      " #   Column        Non-Null Count  Dtype  \n",
      "---  ------        --------------  -----  \n",
      " 0   Ship Mode     9994 non-null   object \n",
      " 1   Segment       9994 non-null   object \n",
      " 2   Country       9994 non-null   object \n",
      " 3   City          9994 non-null   object \n",
      " 4   State         9994 non-null   object \n",
      " 5   Postal Code   9994 non-null   int64  \n",
      " 6   Region        9994 non-null   object \n",
      " 7   Category      9994 non-null   object \n",
      " 8   Sub-Category  9994 non-null   object \n",
      " 9   Sales         9994 non-null   float64\n",
      " 10  Quantity      9994 non-null   int64  \n",
      " 11  Discount      9994 non-null   float64\n",
      " 12  Profit        9994 non-null   float64\n",
      "dtypes: float64(3), int64(2), object(8)\n",
      "memory usage: 1015.1+ KB\n"
     ]
    },
    {
     "data": {
      "text/plain": [
       "(None,\n",
       "         Ship Mode    Segment        Country             City       State  \\\n",
       " 0    Second Class   Consumer  United States        Henderson    Kentucky   \n",
       " 1    Second Class   Consumer  United States        Henderson    Kentucky   \n",
       " 2    Second Class  Corporate  United States      Los Angeles  California   \n",
       " 3  Standard Class   Consumer  United States  Fort Lauderdale     Florida   \n",
       " 4  Standard Class   Consumer  United States  Fort Lauderdale     Florida   \n",
       " \n",
       "    Postal Code Region         Category Sub-Category     Sales  Quantity  \\\n",
       " 0        42420  South        Furniture    Bookcases  261.9600         2   \n",
       " 1        42420  South        Furniture       Chairs  731.9400         3   \n",
       " 2        90036   West  Office Supplies       Labels   14.6200         2   \n",
       " 3        33311  South        Furniture       Tables  957.5775         5   \n",
       " 4        33311  South  Office Supplies      Storage   22.3680         2   \n",
       " \n",
       "    Discount    Profit  \n",
       " 0      0.00   41.9136  \n",
       " 1      0.00  219.5820  \n",
       " 2      0.00    6.8714  \n",
       " 3      0.45 -383.0310  \n",
       " 4      0.20    2.5164  )"
      ]
     },
     "execution_count": 1,
     "metadata": {},
     "output_type": "execute_result"
    }
   ],
   "source": [
    "import pandas as pd\n",
    "\n",
    "# Load the dataset\n",
    "file_path = \"SampleSuperstore.csv\"\n",
    "df = pd.read_csv(file_path)\n",
    "\n",
    "# Display basic info and first few rows\n",
    "df_info = df.info()\n",
    "df_head = df.head()\n",
    "\n",
    "df_info, df_head"
   ]
  },
  {
   "cell_type": "code",
   "execution_count": null,
   "id": "a19be995-a999-4edf-83ff-d9987e862ab1",
   "metadata": {},
   "outputs": [],
   "source": []
  }
 ],
 "metadata": {
  "kernelspec": {
   "display_name": "Python 3 (ipykernel)",
   "language": "python",
   "name": "python3"
  },
  "language_info": {
   "codemirror_mode": {
    "name": "ipython",
    "version": 3
   },
   "file_extension": ".py",
   "mimetype": "text/x-python",
   "name": "python",
   "nbconvert_exporter": "python",
   "pygments_lexer": "ipython3",
   "version": "3.12.4"
  }
 },
 "nbformat": 4,
 "nbformat_minor": 5
}
